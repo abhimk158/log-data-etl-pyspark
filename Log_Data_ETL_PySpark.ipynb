{
  "nbformat": 4,
  "nbformat_minor": 0,
  "metadata": {
    "colab": {
      "provenance": []
    },
    "kernelspec": {
      "name": "python3",
      "display_name": "Python 3"
    },
    "language_info": {
      "name": "python"
    }
  },
  "cells": [
    {
      "cell_type": "markdown",
      "source": [
        "**Objective:**\n",
        "\n",
        "**Build a scalable ETL pipeline using PySpark to process raw server log files, extract relevant fields, and compute error and traffic statistics.**"
      ],
      "metadata": {
        "id": "cRCiL9mBuUdA"
      }
    },
    {
      "cell_type": "markdown",
      "source": [
        "**Step 1: Setup PySpark Environmentb**\n",
        "\n",
        "Installing and configuring PySpark in Google Colab."
      ],
      "metadata": {
        "id": "aFUq3gMOuz3K"
      }
    },
    {
      "cell_type": "code",
      "source": [
        "# 1. Install Java & Spark\n",
        "!apt-get install openjdk-11-jdk-headless -qq > /dev/null\n",
        "!wget -q https://archive.apache.org/dist/spark/spark-3.3.0/spark-3.3.0-bin-hadoop3.tgz\n",
        "!tar -xzf spark-3.3.0-bin-hadoop3.tgz\n",
        "!pip install -q findspark\n",
        "\n",
        "# 2. Set environment variables\n",
        "import os\n",
        "os.environ[\"JAVA_HOME\"] = \"/usr/lib/jvm/java-11-openjdk-amd64\"\n",
        "os.environ[\"SPARK_HOME\"] = \"/content/spark-3.3.0-bin-hadoop3\"\n",
        "\n",
        "# 3. Initialize findspark and start Spark session\n",
        "import findspark\n",
        "findspark.init()\n",
        "\n",
        "from pyspark.sql import SparkSession\n",
        "\n",
        "spark = SparkSession.builder \\\n",
        "    .appName(\"LogDataETL\") \\\n",
        "    .getOrCreate()\n",
        "\n",
        "spark\n"
      ],
      "metadata": {
        "colab": {
          "base_uri": "https://localhost:8080/",
          "height": 219
        },
        "id": "OymAz5WqwL6z",
        "outputId": "1563ba64-30eb-45c1-f455-92a8a6ae0cbe"
      },
      "execution_count": 10,
      "outputs": [
        {
          "output_type": "execute_result",
          "data": {
            "text/plain": [
              "<pyspark.sql.session.SparkSession at 0x7e366827a550>"
            ],
            "text/html": [
              "\n",
              "            <div>\n",
              "                <p><b>SparkSession - in-memory</b></p>\n",
              "                \n",
              "        <div>\n",
              "            <p><b>SparkContext</b></p>\n",
              "\n",
              "            <p><a href=\"http://8ee67175e5a8:4040\">Spark UI</a></p>\n",
              "\n",
              "            <dl>\n",
              "              <dt>Version</dt>\n",
              "                <dd><code>v3.3.0</code></dd>\n",
              "              <dt>Master</dt>\n",
              "                <dd><code>local[*]</code></dd>\n",
              "              <dt>AppName</dt>\n",
              "                <dd><code>LogDataETL</code></dd>\n",
              "            </dl>\n",
              "        </div>\n",
              "        \n",
              "            </div>\n",
              "        "
            ]
          },
          "metadata": {},
          "execution_count": 10
        }
      ]
    },
    {
      "cell_type": "markdown",
      "source": [
        "**Step 2: Create Sample Log File**\n",
        "\n",
        "Creating a dummy server log dataset (you can replace it with actual logs later)."
      ],
      "metadata": {
        "id": "0IPXGfkYx9mg"
      }
    },
    {
      "cell_type": "code",
      "source": [
        "# Recreate the file to ensure it's present\n",
        "sample_logs = \"\"\"\n",
        "127.0.0.1 - - [08/May/2025:14:12:15 +0000] \"GET /home HTTP/1.1\" 200 2048\n",
        "192.168.0.1 - - [08/May/2025:14:13:22 +0000] \"POST /login HTTP/1.1\" 302 1024\n",
        "10.0.0.1 - - [08/May/2025:14:14:33 +0000] \"GET /dashboard HTTP/1.1\" 200 4096\n",
        "172.16.0.1 - - [08/May/2025:14:15:40 +0000] \"GET /api/data HTTP/1.1\" 500 512\n",
        "\"\"\"\n",
        "with open(\"sample_logs.log\", \"w\") as f:\n",
        "    f.write(sample_logs.strip())"
      ],
      "metadata": {
        "id": "cDIfAU9HyBE8"
      },
      "execution_count": 17,
      "outputs": []
    },
    {
      "cell_type": "markdown",
      "source": [
        "**Step 3: Load Log Data into Spark**\n",
        "\n",
        "Loading unstructured log data into a Spark DataFrame."
      ],
      "metadata": {
        "id": "B3f-fgz7yF0e"
      }
    },
    {
      "cell_type": "code",
      "source": [
        "log_df = spark.read.text(\"sample_logs.log\")\n",
        "log_df.show(truncate=False)"
      ],
      "metadata": {
        "colab": {
          "base_uri": "https://localhost:8080/"
        },
        "id": "DXc2mS3UyKVB",
        "outputId": "3915f097-8210-492d-d4a1-8e7b6bb60799"
      },
      "execution_count": 18,
      "outputs": [
        {
          "output_type": "stream",
          "name": "stdout",
          "text": [
            "+----------------------------------------------------------------------------+\n",
            "|value                                                                       |\n",
            "+----------------------------------------------------------------------------+\n",
            "|127.0.0.1 - - [08/May/2025:14:12:15 +0000] \"GET /home HTTP/1.1\" 200 2048    |\n",
            "|192.168.0.1 - - [08/May/2025:14:13:22 +0000] \"POST /login HTTP/1.1\" 302 1024|\n",
            "|10.0.0.1 - - [08/May/2025:14:14:33 +0000] \"GET /dashboard HTTP/1.1\" 200 4096|\n",
            "|172.16.0.1 - - [08/May/2025:14:15:40 +0000] \"GET /api/data HTTP/1.1\" 500 512|\n",
            "+----------------------------------------------------------------------------+\n",
            "\n"
          ]
        }
      ]
    },
    {
      "cell_type": "markdown",
      "source": [
        "**Step 4: Parse the Log Data Using regexp_extract**\n",
        "\n",
        "Extract structured information from raw log strings using regex. This avoids UDFs and serialization issues."
      ],
      "metadata": {
        "id": "5ehjHRJZzkpo"
      }
    },
    {
      "cell_type": "code",
      "source": [
        "from pyspark.sql.functions import regexp_extract, col\n",
        "\n",
        "# Define regex patterns\n",
        "ip_pattern = r'^(\\S+)'                            # IP address\n",
        "timestamp_pattern = r'\\[(.*?)\\]'                 # Timestamp\n",
        "method_pattern = r'\\\"(\\S+)'                      # HTTP Method\n",
        "url_pattern = r'\\\"(?:GET|POST) (\\S+)'            # Requested URL\n",
        "status_code_pattern = r'\\\" (\\d{3})'              # Status Code\n",
        "response_size_pattern = r' (\\d+)$'              # Response size (if available)\n",
        "\n",
        "# Parse the fields using regexp_extract\n",
        "parsed_df = log_df.withColumn(\"ip\", regexp_extract(col(\"value\"), ip_pattern, 1)) \\\n",
        "    .withColumn(\"timestamp\", regexp_extract(col(\"value\"), timestamp_pattern, 1)) \\\n",
        "    .withColumn(\"method\", regexp_extract(col(\"value\"), method_pattern, 1)) \\\n",
        "    .withColumn(\"url\", regexp_extract(col(\"value\"), url_pattern, 1)) \\\n",
        "    .withColumn(\"status_code\", regexp_extract(col(\"value\"), status_code_pattern, 1)) \\\n",
        "    .withColumn(\"response_size\", regexp_extract(col(\"value\"), response_size_pattern, 1))\n",
        "\n",
        "parsed_df.show(truncate=False)"
      ],
      "metadata": {
        "colab": {
          "base_uri": "https://localhost:8080/"
        },
        "id": "syMdRGsWzocU",
        "outputId": "dd1300f4-b5b2-4e70-fb46-50761f140e12"
      },
      "execution_count": 19,
      "outputs": [
        {
          "output_type": "stream",
          "name": "stdout",
          "text": [
            "+----------------------------------------------------------------------------+-----------+--------------------------+------+----------+-----------+-------------+\n",
            "|value                                                                       |ip         |timestamp                 |method|url       |status_code|response_size|\n",
            "+----------------------------------------------------------------------------+-----------+--------------------------+------+----------+-----------+-------------+\n",
            "|127.0.0.1 - - [08/May/2025:14:12:15 +0000] \"GET /home HTTP/1.1\" 200 2048    |127.0.0.1  |08/May/2025:14:12:15 +0000|GET   |/home     |200        |2048         |\n",
            "|192.168.0.1 - - [08/May/2025:14:13:22 +0000] \"POST /login HTTP/1.1\" 302 1024|192.168.0.1|08/May/2025:14:13:22 +0000|POST  |/login    |302        |1024         |\n",
            "|10.0.0.1 - - [08/May/2025:14:14:33 +0000] \"GET /dashboard HTTP/1.1\" 200 4096|10.0.0.1   |08/May/2025:14:14:33 +0000|GET   |/dashboard|200        |4096         |\n",
            "|172.16.0.1 - - [08/May/2025:14:15:40 +0000] \"GET /api/data HTTP/1.1\" 500 512|172.16.0.1 |08/May/2025:14:15:40 +0000|GET   |/api/data |500        |512          |\n",
            "+----------------------------------------------------------------------------+-----------+--------------------------+------+----------+-----------+-------------+\n",
            "\n"
          ]
        }
      ]
    },
    {
      "cell_type": "markdown",
      "source": [
        "**Step 5: Perform Basic Aggregations**\n",
        "\n",
        "Compute common metrics like request count, error count, and top URLs."
      ],
      "metadata": {
        "id": "BcxXpHsdzrvH"
      }
    },
    {
      "cell_type": "code",
      "source": [
        "from pyspark.sql.functions import count, desc\n",
        "\n",
        "# Count total requests\n",
        "parsed_df.select(count(\"*\").alias(\"Total Requests\")).show()\n",
        "\n",
        "# Count requests by status code\n",
        "parsed_df.groupBy(\"status_code\").count().orderBy(desc(\"count\")).show()\n",
        "\n",
        "# Top requested URLs\n",
        "parsed_df.groupBy(\"url\").count().orderBy(desc(\"count\")).show(5)"
      ],
      "metadata": {
        "colab": {
          "base_uri": "https://localhost:8080/"
        },
        "id": "34-i_upPzxwp",
        "outputId": "32d730a1-cd8d-415d-eedf-bf71d037d5c2"
      },
      "execution_count": 20,
      "outputs": [
        {
          "output_type": "stream",
          "name": "stdout",
          "text": [
            "+--------------+\n",
            "|Total Requests|\n",
            "+--------------+\n",
            "|             4|\n",
            "+--------------+\n",
            "\n",
            "+-----------+-----+\n",
            "|status_code|count|\n",
            "+-----------+-----+\n",
            "|        200|    2|\n",
            "|        302|    1|\n",
            "|        500|    1|\n",
            "+-----------+-----+\n",
            "\n",
            "+----------+-----+\n",
            "|       url|count|\n",
            "+----------+-----+\n",
            "|    /login|    1|\n",
            "|     /home|    1|\n",
            "|/dashboard|    1|\n",
            "| /api/data|    1|\n",
            "+----------+-----+\n",
            "\n"
          ]
        }
      ]
    },
    {
      "cell_type": "markdown",
      "source": [
        "**Step 6: Save Clean Data to Parquet**\n",
        "\n",
        "Save parsed and structured log data for downstream analytics."
      ],
      "metadata": {
        "id": "fz1BOQxaz1et"
      }
    },
    {
      "cell_type": "code",
      "source": [
        "parsed_df.write.mode(\"overwrite\").parquet(\"clean_logs_parquet/\")"
      ],
      "metadata": {
        "id": "vc20PZX9z3vv"
      },
      "execution_count": 21,
      "outputs": []
    },
    {
      "cell_type": "markdown",
      "source": [
        "**Part 1: Visualize Metrics Using Seaborn/Matplotlib**\n",
        "\n",
        "We’ll convert the cleaned Spark DataFrame to Pandas to plot with seaborn or matplotlib.\n",
        "\n",
        "**Step 7: Load cleaned data from Parquet and convert to Pandas**"
      ],
      "metadata": {
        "id": "v6x815zUz57l"
      }
    },
    {
      "cell_type": "code",
      "source": [
        "# Load Parquet data\n",
        "clean_df = spark.read.parquet(\"clean_logs_parquet\")\n",
        "\n",
        "# Convert to Pandas for visualization\n",
        "pdf = clean_df.toPandas()"
      ],
      "metadata": {
        "id": "YrWjW6cj0b_v"
      },
      "execution_count": 24,
      "outputs": []
    },
    {
      "cell_type": "markdown",
      "source": [
        "**Step 8: Plot status code distribution**"
      ],
      "metadata": {
        "id": "1vvOb27o0sXs"
      }
    },
    {
      "cell_type": "code",
      "source": [
        "import seaborn as sns\n",
        "import matplotlib.pyplot as plt\n",
        "\n",
        "# Set style\n",
        "sns.set(style=\"whitegrid\")\n",
        "\n",
        "# Plot\n",
        "plt.figure(figsize=(8, 5))\n",
        "sns.countplot(x=\"status_code\", data=pdf, palette=\"viridis\")\n",
        "plt.title(\"HTTP Status Code Distribution\")\n",
        "plt.xlabel(\"Status Code\")\n",
        "plt.ylabel(\"Count\")\n",
        "plt.show()"
      ],
      "metadata": {
        "colab": {
          "base_uri": "https://localhost:8080/",
          "height": 603
        },
        "id": "WY_qm_LC0tsT",
        "outputId": "74670226-c6f4-4e90-9446-845a809956c8"
      },
      "execution_count": 25,
      "outputs": [
        {
          "output_type": "stream",
          "name": "stderr",
          "text": [
            "<ipython-input-25-9461b2a4816a>:9: FutureWarning: \n",
            "\n",
            "Passing `palette` without assigning `hue` is deprecated and will be removed in v0.14.0. Assign the `x` variable to `hue` and set `legend=False` for the same effect.\n",
            "\n",
            "  sns.countplot(x=\"status_code\", data=pdf, palette=\"viridis\")\n"
          ]
        },
        {
          "output_type": "display_data",
          "data": {
            "text/plain": [
              "<Figure size 800x500 with 1 Axes>"
            ],
            "image/png": "[encoded data removed]"
          },
          "metadata": {}
        }
      ]
    }
  ]
}